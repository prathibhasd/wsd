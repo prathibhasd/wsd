{
  "nbformat": 4,
  "nbformat_minor": 0,
  "metadata": {
    "colab": {
      "name": "My_Project.ipynb",
      "provenance": [],
      "collapsed_sections": []
    },
    "kernelspec": {
      "name": "python3",
      "display_name": "Python 3"
    },
    "language_info": {
      "name": "python"
    }
  },
  "cells": [
    {
      "cell_type": "code",
      "execution_count": 1,
      "metadata": {
        "colab": {
          "base_uri": "https://localhost:8080/"
        },
        "id": "t1HUdqWwnqxy",
        "outputId": "5a71ca67-bba2-4237-e16e-563b3892a7f7"
      },
      "outputs": [
        {
          "output_type": "stream",
          "name": "stdout",
          "text": [
            "Collecting pyiwn\n",
            "  Downloading pyiwn-0.0.5-py3-none-any.whl (12 kB)\n",
            "Requirement already satisfied: requests in /usr/local/lib/python3.7/dist-packages (from pyiwn) (2.23.0)\n",
            "Requirement already satisfied: pandas in /usr/local/lib/python3.7/dist-packages (from pyiwn) (1.3.5)\n",
            "Requirement already satisfied: numpy>=1.17.3 in /usr/local/lib/python3.7/dist-packages (from pandas->pyiwn) (1.21.5)\n",
            "Requirement already satisfied: pytz>=2017.3 in /usr/local/lib/python3.7/dist-packages (from pandas->pyiwn) (2018.9)\n",
            "Requirement already satisfied: python-dateutil>=2.7.3 in /usr/local/lib/python3.7/dist-packages (from pandas->pyiwn) (2.8.2)\n",
            "Requirement already satisfied: six>=1.5 in /usr/local/lib/python3.7/dist-packages (from python-dateutil>=2.7.3->pandas->pyiwn) (1.15.0)\n",
            "Requirement already satisfied: certifi>=2017.4.17 in /usr/local/lib/python3.7/dist-packages (from requests->pyiwn) (2021.10.8)\n",
            "Requirement already satisfied: idna<3,>=2.5 in /usr/local/lib/python3.7/dist-packages (from requests->pyiwn) (2.10)\n",
            "Requirement already satisfied: urllib3!=1.25.0,!=1.25.1,<1.26,>=1.21.1 in /usr/local/lib/python3.7/dist-packages (from requests->pyiwn) (1.24.3)\n",
            "Requirement already satisfied: chardet<4,>=3.0.2 in /usr/local/lib/python3.7/dist-packages (from requests->pyiwn) (3.0.4)\n",
            "Installing collected packages: pyiwn\n",
            "Successfully installed pyiwn-0.0.5\n",
            "Requirement already satisfied: xlrd in /usr/local/lib/python3.7/dist-packages (1.1.0)\n",
            "Collecting xlrd\n",
            "  Downloading xlrd-2.0.1-py2.py3-none-any.whl (96 kB)\n",
            "\u001b[K     |████████████████████████████████| 96 kB 4.1 MB/s \n",
            "\u001b[?25hInstalling collected packages: xlrd\n",
            "  Attempting uninstall: xlrd\n",
            "    Found existing installation: xlrd 1.1.0\n",
            "    Uninstalling xlrd-1.1.0:\n",
            "      Successfully uninstalled xlrd-1.1.0\n",
            "Successfully installed xlrd-2.0.1\n"
          ]
        }
      ],
      "source": [
        "!pip install --upgrade pyiwn\n",
        "!pip install --upgrade xlrd\n"
      ]
    },
    {
      "cell_type": "markdown",
      "source": [
        "Importing pyiwn API to access Indowordnet and Loading Kannada language\n"
      ],
      "metadata": {
        "id": "nbeEYRiY9-8w"
      }
    },
    {
      "cell_type": "code",
      "source": [
        "import pyiwn\n",
        "iwn = pyiwn.IndoWordNet(lang=pyiwn.Language.KANNADA)"
      ],
      "metadata": {
        "colab": {
          "base_uri": "https://localhost:8080/"
        },
        "id": "2GWrB6JjpCL_",
        "outputId": "4ae946c3-9cfe-4d57-fab2-a87f05f383e0"
      },
      "execution_count": 2,
      "outputs": [
        {
          "output_type": "stream",
          "name": "stderr",
          "text": [
            "2022-04-02:03:59:24,131 INFO     [helpers.py:20] Downloading IndoWordNet data of size ~31 MB...\n"
          ]
        },
        {
          "output_type": "stream",
          "name": "stdout",
          "text": [
            "[██████████████████████████████████████████████████]"
          ]
        },
        {
          "output_type": "stream",
          "name": "stderr",
          "text": [
            "2022-04-02:03:59:25,707 INFO     [helpers.py:43] Extracting /root/iwn_data.tar.gz into /root...\n"
          ]
        },
        {
          "output_type": "stream",
          "name": "stdout",
          "text": [
            "\n"
          ]
        },
        {
          "output_type": "stream",
          "name": "stderr",
          "text": [
            "2022-04-02:03:59:26,906 INFO     [helpers.py:48] Removing temporary zip file from /root/iwn_data.tar.gz\n",
            "2022-04-02:03:59:26,913 INFO     [helpers.py:51] IndoWordNet data successfully downloaded at /root/iwn_data\n",
            "2022-04-02:03:59:26,993 INFO     [utils.py:159] NumExpr defaulting to 2 threads.\n",
            "2022-04-02:03:59:27,318 INFO     [iwn.py:43] Loading kannada language synsets...\n"
          ]
        }
      ]
    },
    {
      "cell_type": "markdown",
      "source": [
        "Lesk Algorithm- Core\n",
        "(For Visual)"
      ],
      "metadata": {
        "id": "RJpVskxH-R4e"
      }
    },
    {
      "cell_type": "code",
      "source": [
        "def Lesk(word, sentence,postag=\"\"):\n",
        "    senses = get_senses(word)\n",
        "    if postag != \"\":\n",
        "      #senses = get_senses(word)\n",
        "      senses=specified_sense(word,postag)\n",
        "    best_sense_word = senses[0]\n",
        "    max_overlap = 0\n",
        "    context = get_words(sentence)\n",
        "    \n",
        "    for sense in senses:\n",
        "        signature = get_gloss_and_examples(sense)\n",
        "        overlap = compute_overlap(signature, context)\n",
        "        \n",
        "        if overlap > max_overlap:\n",
        "            max_overlap = overlap\n",
        "            best_sense_word = sense\n",
        "    \n",
        "    return (best_sense_word,best_sense_word.lemma_names(),best_sense_word.examples())"
      ],
      "metadata": {
        "id": "j25ardK5nulZ"
      },
      "execution_count": 3,
      "outputs": []
    },
    {
      "cell_type": "markdown",
      "source": [
        "Lesk Algorithm- Core\n",
        "(For WSD System)"
      ],
      "metadata": {
        "id": "Gjxbza6nDv1c"
      }
    },
    {
      "cell_type": "code",
      "source": [
        "def Lesk1(word, sentence,postag=\"\"):\n",
        "    senses = get_senses(word)\n",
        "    if postag != \"\":\n",
        "      #senses = get_senses(word)\n",
        "      senses=specified_sense(word,postag)\n",
        "    best_sense_word = senses[0]\n",
        "    max_overlap = 0\n",
        "    context = get_words(sentence)\n",
        "    \n",
        "    for sense in senses:\n",
        "        signature = get_gloss_and_examples_synonyms(sense)\n",
        "        overlap = compute_overlap(signature, context)\n",
        "        \n",
        "        if overlap > max_overlap:\n",
        "            max_overlap = overlap\n",
        "            best_sense_word = sense\n",
        "    \n",
        "    return best_sense_word.synset_id()"
      ],
      "metadata": {
        "id": "JQym2f8rDcy_"
      },
      "execution_count": 4,
      "outputs": []
    },
    {
      "cell_type": "markdown",
      "source": [
        "Function to get all senses of a word"
      ],
      "metadata": {
        "id": "StbkK6zWA9Vm"
      }
    },
    {
      "cell_type": "code",
      "source": [
        "def get_senses(word):\n",
        "    return iwn.synsets(word)"
      ],
      "metadata": {
        "id": "jJde4OdPnunj"
      },
      "execution_count": 5,
      "outputs": []
    },
    {
      "cell_type": "markdown",
      "source": [
        "Function to get specified senses using POSTag method"
      ],
      "metadata": {
        "id": "0KQB0zpQA_xB"
      }
    },
    {
      "cell_type": "code",
      "source": [
        "def specified_sense(word, postag):\n",
        "  all_senses = get_senses(word)\n",
        "  specific_senses = []\n",
        "  for sense in all_senses:\n",
        "    pos = sense.pos().upper()\n",
        "    postag = postag.upper()\n",
        "\n",
        "    if postag == pos:\n",
        "      specific_senses.append(sense)\n",
        "    \n",
        "  if len(specific_senses) == 0:\n",
        "    return all_senses\n",
        "  return specific_senses"
      ],
      "metadata": {
        "id": "WBCEM6NrFgj1"
      },
      "execution_count": 6,
      "outputs": []
    },
    {
      "cell_type": "markdown",
      "source": [
        "Function to Split a Sentence into words"
      ],
      "metadata": {
        "id": "LXRappG3BSPx"
      }
    },
    {
      "cell_type": "code",
      "source": [
        "def get_words(sentence):\n",
        "  return sentence.split(\" \")"
      ],
      "metadata": {
        "id": "neZoV9xLnuqL"
      },
      "execution_count": 7,
      "outputs": []
    },
    {
      "cell_type": "markdown",
      "source": [
        "Function to get Gloss and Examples of a word from the Indowordnet"
      ],
      "metadata": {
        "id": "6JhoJHLqBafI"
      }
    },
    {
      "cell_type": "code",
      "source": [
        "def get_gloss_and_examples(sense):\n",
        "  gloss = get_words(sense.gloss())\n",
        "  examples = sense.examples()\n",
        "  meaning = []\n",
        "  for example in examples:\n",
        "    meaning.extend(get_words(example))\n",
        "\n",
        "  gloss_and_examples = []\n",
        "  gloss_and_examples.extend(gloss)\n",
        "  gloss_and_examples.extend(meaning)\n",
        "  return gloss_and_examples"
      ],
      "metadata": {
        "id": "3MXk8K8inur5"
      },
      "execution_count": 8,
      "outputs": []
    },
    {
      "cell_type": "markdown",
      "source": [
        "Function to get Gloss, Examples and synonyms of a word from the Indowordnet"
      ],
      "metadata": {
        "id": "4UR7d_1fM0i6"
      }
    },
    {
      "cell_type": "code",
      "source": [
        "def get_gloss_and_examples_synonyms(sense):\n",
        "  gloss = get_words(sense.gloss())\n",
        "  synonyms = sense.lemma_names()\n",
        "  examples = sense.examples()\n",
        "  meaning = []\n",
        "  for example in examples:\n",
        "    meaning.extend(get_words(example))\n",
        "  gloss_and_examples1 = []\n",
        "  gloss_and_examples1.extend(gloss)\n",
        "  gloss_and_examples1.extend(meaning)\n",
        "  gloss_and_examples1.extend(synonyms)\n",
        "  return gloss_and_examples1"
      ],
      "metadata": {
        "id": "lyzaeGfOHOsS"
      },
      "execution_count": 9,
      "outputs": []
    },
    {
      "cell_type": "markdown",
      "source": [
        "Function to compute similarity between given sentence and Gloss_examples"
      ],
      "metadata": {
        "id": "jd_xQbU7BkgG"
      }
    },
    {
      "cell_type": "code",
      "source": [
        "def compute_overlap(signature, context):\n",
        "  overlap = 0\n",
        "  for word in context:\n",
        "    if word in signature:\n",
        "      overlap += 1\n",
        "  \n",
        "  return overlap"
      ],
      "metadata": {
        "id": "VHEICuxUnut1"
      },
      "execution_count": 10,
      "outputs": []
    },
    {
      "cell_type": "markdown",
      "source": [
        "Implementing Lesk"
      ],
      "metadata": {
        "id": "p34q2isGBwGO"
      }
    },
    {
      "cell_type": "code",
      "source": [
        "Lesk(\"ಅಲೆ\",\"ಗಂಟೆಯ ನಿನಾದ ಅಲೆ ಅಲೆಯಾಗಿ ಕೇಳಿ ಬಂತು\",'noun')"
      ],
      "metadata": {
        "colab": {
          "base_uri": "https://localhost:8080/"
        },
        "id": "FzD7nCSRnuvp",
        "outputId": "0ebf1eb5-740b-4ef9-ec35-41f0c2f0e7fb"
      },
      "execution_count": 11,
      "outputs": [
        {
          "output_type": "execute_result",
          "data": {
            "text/plain": [
              "(Synset('ಅಲೆ.noun.3332'),\n",
              " ['ಅಲೆ', 'ಲಹರಿ', 'ತರಂಗ'],\n",
              " ['ನೀರಿನ ಅಲೆಗಳನ್ನು ನೋಡಿ ಕವಿಯು ಕವಿತೆಯನ್ನು ಬರೆದನು.'])"
            ]
          },
          "metadata": {},
          "execution_count": 11
        }
      ]
    },
    {
      "cell_type": "code",
      "source": [
        "Lesk(\"ಕರ\",\"ನಾನು ಸರಕಾರಕ್ಕೆ ಕರವನ್ನು ಕೊಟ್ಟೆ\")"
      ],
      "metadata": {
        "colab": {
          "base_uri": "https://localhost:8080/"
        },
        "id": "5GAO6dzZoFew",
        "outputId": "3c199580-7eec-4932-a997-d31869be5bb3"
      },
      "execution_count": 12,
      "outputs": [
        {
          "output_type": "execute_result",
          "data": {
            "text/plain": [
              "(Synset('ತೆರಿಗೆ_ಸುಂಕ.noun.6353'),\n",
              " ['ತೆರಿಗೆ_ಸುಂಕ', 'ಕರ', 'ಕಂದಾಯ'],\n",
              " ['ಪ್ರತಿವರ್ಷ ನಾನು ಇಪ್ಪತ್ತು ಸಾವಿರದಷ್ಟು ತೆರಿಗೆಯನ್ನು ಭರಿಸಬೇಕಾಗಿ ಬರುವುದು.'])"
            ]
          },
          "metadata": {},
          "execution_count": 12
        }
      ]
    },
    {
      "cell_type": "code",
      "source": [
        "Lesk(\"ಕರ\",\"ಮುಖದ ತುಂಬಾ ಧೂಳು ತಾಗಿದ್ದರಿಂದ ನಾನು ಕರ ವಸ್ತ್ರದಿಂದ ಮುಖ ಒರೆಸಿಕೊಂಡೆ\")"
      ],
      "metadata": {
        "colab": {
          "base_uri": "https://localhost:8080/"
        },
        "id": "EsBUiWE9EU4j",
        "outputId": "b7f98c84-5da1-4d0c-a007-493e3cf35efa"
      },
      "execution_count": 13,
      "outputs": [
        {
          "output_type": "execute_result",
          "data": {
            "text/plain": [
              "(Synset('ಭುಜ.noun.491'),\n",
              " ['ಭುಜ', 'ಕೈ', 'ಕರ', 'ತೋಳು'],\n",
              " ['ಭೀಮನ ಭುಜದಲ್ಲಿ ತುಂಬಾ ಬಲವಿತ್ತು'])"
            ]
          },
          "metadata": {},
          "execution_count": 13
        }
      ]
    },
    {
      "cell_type": "code",
      "source": [
        "Lesk(\"ಕರಿ\",\"ನಾನು ಎಣ್ಣೆಯಲ್ಲಿ ಕರಿದ ತಿಂಡಿಗಳನ್ನು ಹೆಚ್ಚಾಗಿ ತಿನ್ನುತ್ತೇನೆ\")"
      ],
      "metadata": {
        "id": "NjphKEFxoFhO",
        "colab": {
          "base_uri": "https://localhost:8080/"
        },
        "outputId": "e916bcc5-0697-401f-d5a6-a7ce6d4c9355"
      },
      "execution_count": 14,
      "outputs": [
        {
          "output_type": "execute_result",
          "data": {
            "text/plain": [
              "(Synset('ಕರಿ.verb.5343'),\n",
              " ['ಕರಿ'],\n",
              " ['ಅವಳು ಸಂಜೆ ಬರುವ ಅತಿಥಿಗಳಿಗೆಂದು ವಡೆ ಮತ್ತು ಪಕೋಡ ಕರಿಯುತ್ತಿದ್ದಾಳೆ.'])"
            ]
          },
          "metadata": {},
          "execution_count": 14
        }
      ]
    },
    {
      "cell_type": "code",
      "source": [
        "Lesk(\"ಮುತ್ತು\",\"ನನ್ನ ಹತ್ತಿರ ಮುತ್ತಿನ ಸರ ಇದೆ\")"
      ],
      "metadata": {
        "id": "v82cKBXEoFkT",
        "colab": {
          "base_uri": "https://localhost:8080/"
        },
        "outputId": "d01263df-e222-4c03-9b95-8d18491fe63c"
      },
      "execution_count": 15,
      "outputs": [
        {
          "output_type": "execute_result",
          "data": {
            "text/plain": [
              "(Synset('ಮುತ್ತು.noun.1201'), ['ಮುತ್ತು'], ['ಗೀತ ಮುತ್ತಿನ ಉಂಗುರವನ್ನು ಧರಿಸಿದ್ದಳು'])"
            ]
          },
          "metadata": {},
          "execution_count": 15
        }
      ]
    },
    {
      "cell_type": "code",
      "source": [
        "Lesk(\"ಅಣಿ\",\"ಒಂದು ಡಯಲ್-ಅಪ್-ಜಾಲಬಂಧ ಸಂಪರ್ಕವನ್ನು ಅಣಿಗೊಳಿಸುವ ಮೊದಲು ಪೂರ್ವನಿಯೋಜಿತವಾದ ಬ್ಲೂಟೂತ್ ಅಡಾಪ್ಟರ್ ಅನ್ನು ಶಕ್ತಗೊಳಿಸಬೇಕು\")"
      ],
      "metadata": {
        "id": "6UTMGi7znuxq",
        "colab": {
          "base_uri": "https://localhost:8080/"
        },
        "outputId": "facfcd41-2c6a-4c8c-bea4-b676252d5795"
      },
      "execution_count": 16,
      "outputs": [
        {
          "output_type": "execute_result",
          "data": {
            "text/plain": [
              "(Synset('ತಯಾರಿ.noun.1416'),\n",
              " ['ತಯಾರಿ', 'ಸಿದ್ದತೆ', 'ಸಜ್ಜು', 'ಅಣಿ', 'ಸನ್ನಾಹ', 'ಸವರಣೆ'],\n",
              " ['ಸೀಮಾಳ ಮದುವೆಗಾಗಿ ಬಹಳ ಜೋರಾಗಿ ತಯಾರಿ ನಡೆಯುತ್ತಿದೆ.'])"
            ]
          },
          "metadata": {},
          "execution_count": 16
        }
      ]
    },
    {
      "cell_type": "markdown",
      "source": [
        "Reading  Test data from the Google Drive"
      ],
      "metadata": {
        "id": "QFhYymeLBz4z"
      }
    },
    {
      "cell_type": "code",
      "source": [
        "!pip install --upgrade -q gspread\n",
        "\n"
      ],
      "metadata": {
        "id": "WmyRvyNgB8ur"
      },
      "execution_count": 17,
      "outputs": []
    },
    {
      "cell_type": "code",
      "source": [
        "import gspread\n",
        "import pandas as pd\n",
        "from google.colab import auth\n",
        "from oauth2client.client import GoogleCredentials\n",
        "from google.auth import default\n",
        "creds, _ = default()\n",
        "\n",
        "\n"
      ],
      "metadata": {
        "id": "e0tZVZKUr1iv",
        "colab": {
          "base_uri": "https://localhost:8080/"
        },
        "outputId": "a2f84af5-ee1b-4719-a74c-de479bc9ae28"
      },
      "execution_count": 21,
      "outputs": [
        {
          "output_type": "stream",
          "name": "stderr",
          "text": [
            "2022-04-02:04:02:31,191 WARNING  [_default.py:484] No project ID could be determined. Consider running `gcloud config set project` or setting the GOOGLE_CLOUD_PROJECT environment variable\n"
          ]
        }
      ]
    },
    {
      "cell_type": "code",
      "source": [
        "auth.authenticate_user()\n"
      ],
      "metadata": {
        "id": "sabfln8Lr5CQ",
        "colab": {
          "base_uri": "https://localhost:8080/"
        },
        "outputId": "01d1adb8-0bec-443d-a0a8-561ca7c9c60b"
      },
      "execution_count": 19,
      "outputs": [
        {
          "output_type": "stream",
          "name": "stderr",
          "text": [
            "2022-04-02:03:59:32,287 INFO     [auth.py:98] Failure refreshing credentials: (\"Failed to retrieve http://metadata.google.internal/computeMetadata/v1/instance/service-accounts/default/?recursive=true from the Google Compute Enginemetadata service. Status: 404 Response:\\nb''\", <google.auth.transport.requests._Response object at 0x7f38e7f8f250>)\n",
            "2022-04-02:03:59:32,391 INFO     [auth.py:98] Failure refreshing credentials: (\"Failed to retrieve http://metadata.google.internal/computeMetadata/v1/instance/service-accounts/default/?recursive=true from the Google Compute Enginemetadata service. Status: 404 Response:\\nb''\", <google.auth.transport.requests._Response object at 0x7f38e7f65090>)\n"
          ]
        }
      ]
    },
    {
      "cell_type": "code",
      "source": [
        "#gc = gspread.authorize(GoogleCredentials.get_application_default())\n",
        "\n",
        "gc = gspread.authorize(creds)"
      ],
      "metadata": {
        "id": "Fpnjcx78r_52"
      },
      "execution_count": 23,
      "outputs": []
    },
    {
      "cell_type": "code",
      "source": [
        "worksheet = gc.open('WSD_Test_Dataset_copi').sheet1"
      ],
      "metadata": {
        "id": "2wwJLosxsADc"
      },
      "execution_count": 24,
      "outputs": []
    },
    {
      "cell_type": "code",
      "source": [
        "rows = worksheet.get_all_values()\n",
        "dataset = pd.DataFrame.from_records(rows)"
      ],
      "metadata": {
        "id": "Wj1HbEBoCMYM"
      },
      "execution_count": 25,
      "outputs": []
    },
    {
      "cell_type": "markdown",
      "source": [
        "Implementing WSD System on the Test Data"
      ],
      "metadata": {
        "id": "AiDBYp9WNQrI"
      }
    },
    {
      "cell_type": "code",
      "source": [
        "def wsd(rows):\n",
        "  sys_id_list = []\n",
        "  for i in range(1,len(rows)):\n",
        "    tw = rows[i][0]\n",
        "    sen = rows[i][1]\n",
        "    sys_id = Lesk1(tw,sen)\n",
        "    rows[i][5] = str(sys_id)\n",
        "  return rows"
      ],
      "metadata": {
        "id": "0-z8Pb_wCMde"
      },
      "execution_count": 26,
      "outputs": []
    },
    {
      "cell_type": "markdown",
      "source": [
        "Running WSD System"
      ],
      "metadata": {
        "id": "t4szxP2nNW5B"
      }
    },
    {
      "cell_type": "code",
      "source": [
        "wsd(rows)"
      ],
      "metadata": {
        "colab": {
          "base_uri": "https://localhost:8080/"
        },
        "id": "9AuDkGgzCMgH",
        "outputId": "3a7b4c78-5247-464e-e022-241513213ba9"
      },
      "execution_count": 27,
      "outputs": [
        {
          "output_type": "execute_result",
          "data": {
            "text/plain": [
              "[['Target Word',\n",
              "  'Sentence/Gloss',\n",
              "  'Correct ID1',\n",
              "  'Correct ID2',\n",
              "  'Correct ID3',\n",
              "  'Calculated ID'],\n",
              " ['ಮಧು',\n",
              "  'ಪ್ರಶಸ್ತಿ ಸಮಾರಂಭದಲ್ಲಿ ಶಾರುಖ್ ಖಾನ್ ಅವರ ಮಧುಚಂದ್ರದ ಹೆಂಡತಿ ಗೌರಿ ಖಾನ್ನೊಂದಿಗೆ ಉಲ್ಲಾಸದ ಥ್ರೋಬ್ಯಾಕ್ ಕಥೆಯನ್ನು ಬಹಿರಂಗಪಡಿಸಿದರು',\n",
              "  '8047',\n",
              "  '',\n",
              "  '',\n",
              "  '3170'],\n",
              " ['ಮಧು',\n",
              "  'ಮನಸಿನಲ್ಲಿ ಯವುದೋ ಬೇಸರ ಇದ್ದ ಕಾರಣ ಆತ ಇಡೀ ದಿನವನ್ನು ಮಧು ಹೀರುತ್ತಾ ಕಳೆದನು',\n",
              "  '7522',\n",
              "  '',\n",
              "  '',\n",
              "  '3170'],\n",
              " ['ಮಧು',\n",
              "  'ಮಧುಮೇಹ, ರಕ್ತದೊತ್ತಡ, ಕೊಲೆಸ್ಟ್ರಾಲ್, ಎಸ್ ಜಿ ಪಿ ಟಿ (ಲಿವರ್ ಸ್ಕ್ರೀನಿಂಗ್), ಕ್ರಿಯೇಟಿನೈನ್ (ಮೂತ್ರಪಿಂಡಗಳ ಪರೀಕ್ಷೆ) ಮುಂತಾದ ಪರೀಕ್ಷೆಗಳು ಶಿಬಿರಾರ್ಥಿಗಳಿಗೆ ಉಚಿತವಾಗಿ ಲಭ್ಯವಿದ್ದವು',\n",
              "  '8047',\n",
              "  '',\n",
              "  '',\n",
              "  '3170'],\n",
              " ['ಮಧು', 'ದೇವತೆಗಳು ಮಧುಪಾನ ಮಾಡಿ ಅಮರರಾದರು', '3170', '', '', '3170'],\n",
              " ['ಯಂತ್ರ',\n",
              "  'ಸ್ಟೇಟ್ ಬ್ಯಾಂಕ್ ಆಫ್ ಇಂಡಿಯಾವು ನಗದು ಹಣದಿಂದ ಪಿಒಎಸ್ ಯಂತ್ರದ ಮೂಲಕ ಈ ಸೌಲಭ್ಯವನ್ನು ಒದಗಿಸಿ ಬಿಗ್ ಬಜಾರ್ಗೆ ಸಹಾಯ ಮಾಡಿದೆ',\n",
              "  '4168',\n",
              "  '',\n",
              "  '',\n",
              "  '4168'],\n",
              " ['ಯಂತ್ರ',\n",
              "  'ಹಿಟಾಚಿಯಲ್ಲಿ ಬೆಂಕಿ ಕಾಣಿಸಿಕೊಂಡ ತಕ್ಷಣವೇ ಚಾಲಕ ವಾಹನದಿಂದ ಕೆಳಗಿಳಿದಿದ್ದು, ಅಷ್ಟರಲ್ಲಾಗಲೇ ಯಂತ್ರ ಧಗಧಗನೆ ಬೆಂಕಿಗಾಹುತಿಯಾಗಿದೆ',\n",
              "  '4168',\n",
              "  '',\n",
              "  '',\n",
              "  '4168'],\n",
              " ['ಯಂತ್ರ',\n",
              "  'ಲಭ್ಯವಿರುವ ಆಮದು ಯಂತ್ರಗಳು ದೊಡ್ಡ ಯೋಜನೆಗಳಿಗೆ ದೊಡ್ಡ ಸಾಮರ್ಥ್ಯ ಮತ್ತು ಬಹಳ ದುಬಾರಿಯಾಗಿವೆ',\n",
              "  '4168',\n",
              "  '',\n",
              "  '',\n",
              "  '4168'],\n",
              " ['ಯಂತ್ರ',\n",
              "  'ಹಾಲು ಶೀತಲೀಕರಣ ಯಂತ್ರ ಅಭಿವೃದ್ಧಿಪಡಿಸಿದ ಬೆಂಗಳೂರಿನ ರವಿ ಪ್ರಕಾಶ್ ಅವರಿಗೆ ಬ್ರಿಕ್ಸ್ ದೇಶಗಳು ಯುವ ವಿಜ್ಞಾನಿಗಳಿಗೆ ನೀಡುವ ಯುವ ಸಂಶೋಧಕ ಪ್ರಶಸ್ತಿ ಒಲಿದಿದೆ',\n",
              "  '4168',\n",
              "  '',\n",
              "  '',\n",
              "  '4168'],\n",
              " ['ಯಂತ್ರ',\n",
              "  'ಯಂತ್ರ ಅಳವಡಿಸಲು ಹೆಚ್ಚು ಸ್ಥಳಾವಕಾಶವೂ ಬೇಕಾಗಿಲ್ಲ’ ಎಂದರು',\n",
              "  '4168',\n",
              "  '',\n",
              "  '',\n",
              "  '4168'],\n",
              " ['ಯಂತ್ರ',\n",
              "  'ಅರ್ಕೇಶ್ವರ ದೇವಾಲಯದ ಪ್ರವೇಶ ದ್ವಾರದಲ್ಲಿ ಯಾತ್ರಾರ್ಥಿಗಳು ಒಂದು ವಾಸ್ತು ಯಂತ್ರ ಮತ್ತು ಅದರ ಸಂಗಡ ಒಂದು ಬಂಡೆಗಲ್ಲನ್ನು ನೋಡಬಹುದಾಗಿದೆ',\n",
              "  '11906',\n",
              "  '11904',\n",
              "  '',\n",
              "  '4168'],\n",
              " ['ಯಂತ್ರ',\n",
              "  'ಈ ಯಂತ್ರಗಳನ್ನು ತೆಗೆದರೆ ಅವನನ್ನು ಬದುಕಿಸಿಕೊಳ್ಳಲು ಸಾಧ್ಯವಿಲ್ಲ',\n",
              "  '11906',\n",
              "  '11904',\n",
              "  '',\n",
              "  '4168'],\n",
              " ['ಯಂತ್ರ',\n",
              "  'ಯೆಹೋವ ದೇವರು ತನ್ನ ಜನರಾದ ಪುರಾತನ ಇಸ್ರಾಯೇಲ್ಯರಿಗೆ ಕೊಟ್ಟ ನಿಯಮ ಹೀಗಿತ್ತು: “ಕಣಿಹೇಳುವವರು, ಶಕುನನೋಡುವವರು, ಯಂತ್ರಮಂತ್ರಗಳನ್ನು ಮಾಡುವವರು, ಮಾಟಗಾರರು, ತಂತ್ರಗಾರರು, ಸತ್ತವರನ್ನು ವಿಚಾರಿಸುವವರು, ಬೇತಾಳಕರು, ಪ್ರೇತಸಿದ್ಧರು ಇಂಥವರು ಯಾರೂ ನಿಮ್ಮಲ್ಲಿ ಇರಬಾರದು',\n",
              "  '11906',\n",
              "  '11904',\n",
              "  '',\n",
              "  '4168'],\n",
              " ['ವರ್ಷ',\n",
              "  'ಪ್ರಧಾನಮಂತ್ರಿ ಶ್ರೀ ನರೇಂದ್ರ ಮೋದಿ ಅವರು, ಪಾರ್ಸಿ ಹೊಸ ವರ್ಷ ನವರೋಜ್ ಸಂದರ್ಭದಲ್ಲಿ ಜನತೆಗೆ ಶುಭ ಕೋರಿದ್ದಾರೆ',\n",
              "  '7954',\n",
              "  '7955',\n",
              "  '11250',\n",
              "  '6809'],\n",
              " ['ವರ್ಷ',\n",
              "  'ಬೆಲೆ ಪರಿಷ್ಕರಣೆ ಮಾಡದಿದ್ದಲ್ಲಿ ಈ ಹಣಕಾಸು ವರ್ಷದಲ್ಲಿ ತೈಲ ಕಂಪೆನಿಗಳು ಒಟ್ಟು 72,300 ಕೋಟಿ ರೂಪಾಯಿಗಳ ನಷ್ಟ ಅನುಭವಿಸಬೇಕಾಗುತ್ತದೆ',\n",
              "  '7954',\n",
              "  '7955',\n",
              "  '11250',\n",
              "  '7955'],\n",
              " ['ವರ್ಷ',\n",
              "  'ಈ ಪುನಸ್ಸ್ಥಾಪನೆಯಲ್ಲಿ, ಕ್ರಿಸ್ತನ ಸಾವಿರ ವರ್ಷದಾಳಿಕೆಯ ಸಮಯದಲ್ಲಿ ಭೂಮಿಯ ಮೇಲೆ ಮಾನವಕುಲವನ್ನು ಪರಿಪೂರ್ಣತೆಗೆ ಏರಿಸುವುದು ಸೇರಿದೆ ಎಂಬುದು ಡನ್ರ ವರಿಗೆ ತಿಳಿದಿತ್ತು',\n",
              "  '7954',\n",
              "  '7955',\n",
              "  '11250',\n",
              "  '10060'],\n",
              " ['ವರ್ಷ',\n",
              "  'ನೂರಾರು ವರ್ಷಗಳಿಂದ ಹಿಂದೂ ಮುಸ್ಲೀಮ್ ಸಮುದಾಯ ಅನ್ಯೋನ್ಯವಾಗಿ ಬದುಕುತ್ತಿದ್ದೇವೆ',\n",
              "  '7954',\n",
              "  '7955',\n",
              "  '11250',\n",
              "  '6809'],\n",
              " ['ವರ್ಷ',\n",
              "  'ಒಂದೆರಡು ದಿನಗಳಿಂದ ದಕ್ಷಿನ ಒಳನಾಡು ಮತ್ತು ಕರಾವಳಿಯಾದ್ಯನಂತ ಭಾರೀ ವರ್ಷಧಾರೆಯಾಗುತ್ತಿದೆ',\n",
              "  '6809',\n",
              "  '6810',\n",
              "  '',\n",
              "  '27699'],\n",
              " ['ವರ್ಷ',\n",
              "  'ನೀರು ಹನಿ-ಹನಿಯಾಗಿ ಬೀಳುವ ಕ್ರಿಯೆ ವರ್ಷಧಾರೆ',\n",
              "  '6809',\n",
              "  '6810',\n",
              "  '',\n",
              "  '6809'],\n",
              " ['ವರ್ಷ',\n",
              "  'ಹೊಸ ವರ್ಷಕ್ಕೆ ರಾಜ್ಯದಲ್ಲಿ ಮತ್ತೆ ವರ್ಷಧಾರೆ, ಜನವರಿ 2ರವರೆಗೆ ಮಳೆ ಸಾಧ್ಯತೆ',\n",
              "  '6809',\n",
              "  '6810',\n",
              "  '',\n",
              "  '6809'],\n",
              " ['ವರ್ಷ',\n",
              "  'ಮಹಾನಗರದ ಹಲವೆಡೆ ವರ್ಷಧಾರೆ, ರಸ್ತೆ ಬದಿಯ ಚರಂಡಿಗಳೆಲ್ಲ ತುಂಬಿ ಎಲ್ಲೆಲ್ಲೂ ನೀರು',\n",
              "  '6809',\n",
              "  '6810',\n",
              "  '',\n",
              "  '6809'],\n",
              " ['ಹತ್ತಿ',\n",
              "  'ಶೇಂಗಾ, ಹತ್ತಿ, ಭತ್ತ, ಮೆಕ್ಕೆಜೋಳ ಇವು ಇಲ್ಲಿನ ಮುಖ್ಯ ಬೆಳೆಗಳು',\n",
              "  '993',\n",
              "  '2178',\n",
              "  '',\n",
              "  '993'],\n",
              " ['ಹತ್ತಿ',\n",
              "  'ಸ್ವಾಭಾವಿಕವಾಗಿ ಹತ್ತಿಯೂ ಹಲವು ಬಣ್ಣಗಳಲ್ಲಿ ಬಿಳಿ, ಕಂದು, ಹಸಿರು ಹೀಗೆ ಹಲವಾರು ಬಣ್ಣಗಳಲ್ಲಿ ಲಭ್ಯವಾಗುತ್ತವೆ',\n",
              "  '993',\n",
              "  '2178',\n",
              "  '',\n",
              "  '993'],\n",
              " ['ಹತ್ತಿ',\n",
              "  'ಇದಕ್ಕೆ ಒಂದು ಹತ್ತಿ ಉಂಡೆ ಅದ್ದಿಕೊಂಡು ಮುಖಪೂರ್ತಿ ಹಚ್ಚಿಕೊಳ್ಳೀ',\n",
              "  '993',\n",
              "  '2178',\n",
              "  '',\n",
              "  '993'],\n",
              " ['ಹತ್ತಿ',\n",
              "  'ನನಗೆ ಹತ್ತಿಕೊಂಡು ಹೋಗುವುದಕ್ಕೆ ಬಹಳ ಸಮಸ್ಯೆಯಾಯಿತು',\n",
              "  '###',\n",
              "  '###',\n",
              "  '',\n",
              "  '993'],\n",
              " ['ಹತ್ತಿ',\n",
              "  '30ಕ್ಕಿಂತ ಹೆಚ್ಚು ಬಾರಿ ಪರ್ವತಗಳನ್ನು ಹತ್ತಿ ಇಳಿದು, ನದಿಗಳನ್ನು ದಾಟಿದೆವು',\n",
              "  '###',\n",
              "  '###',\n",
              "  '',\n",
              "  '993'],\n",
              " ['ಇಂದು',\n",
              "  'ಇಂದು ಬಿಹಾರದಲ್ಲಿ ದೊಡ್ಡ ದೊಡ್ಡ ಶಿಕ್ಷಣ ಕೇಂದ್ರಗಳು ಆರಂಭವಾಗುತ್ತಿವೆ ಎಂದು ಪ್ರಧಾನಿ ಹೇಳಿದರು',\n",
              "  '3352',\n",
              "  '',\n",
              "  '',\n",
              "  '3352'],\n",
              " ['ಇಂದು',\n",
              "  'ಭಾರತೀಯ ಗ್ರಾಹಕರ ಮನಗೆದ್ದಿರುವ ಮಾರುತಿ ಸುಜುಕಿ ಸಂಸ್ಥೆಯು ತನ್ನ ಹೊಚ್ಚ ಹೊಸ ಮಾದರಿಯ ಡಿಜೈರ್ ಕಾರನ್ನು ಇಂದು ಬಿಡುಗಡೆಗೊಳಿಸಿದ್ದು',\n",
              "  '3352',\n",
              "  '',\n",
              "  '',\n",
              "  '3352'],\n",
              " ['ಇಂದು',\n",
              "  'ಇನ್ನೊಂದು ದೊಡ್ಡ ಸಂಗತಿ ಎಂದರೆ ಇಂದು ಬಿಹಾರದ 90 ಶೇಖಡಾದಷ್ಟು ರೈಲ್ವೇ ಜಾಲವನ್ನು ವಿದ್ಯುದ್ದೀಕರಿಸಲಾಗಿದೆ',\n",
              "  '3352',\n",
              "  '',\n",
              "  '',\n",
              "  '3352'],\n",
              " ['ಇಂದು',\n",
              "  'ಭಾರತವು ಇಂದು, ವಿಶ್ವದ ನಾಲ್ಕನೇ ಅತಿ ದೊಡ್ಡ ಶುದ್ಧೀಕರಣ ಸಾಮರ್ಥ್ಯ ಹೊಂದಿದೆ',\n",
              "  '3352',\n",
              "  '',\n",
              "  '',\n",
              "  '3352'],\n",
              " ['ನಕ್ಷತ್ರ',\n",
              "  'ಇಸ್ಲಾಂನ ಯಾವ ಆಚರಣೆಯಲ್ಲೂ ಅರ್ಧಚಂದ್ರ, ನಕ್ಷತ್ರಗಳನ್ನು ಒಳಗೊಂಡ ಹಸಿರು ಧ್ವಜ ಬಳಕೆಯಾಗುವುದಿಲ್ಲ ಮತ್ತು ಇಸ್ಲಾಂನಲ್ಲಿ ಇದಕ್ಕೆ ಯಾವುದೇ ಪಾತ್ರ ಇಲ್ಲ',\n",
              "  '511',\n",
              "  '890',\n",
              "  '1234',\n",
              "  '36429'],\n",
              " ['ನಕ್ಷತ್ರ',\n",
              "  'ನಕ್ಷತ್ರಗಳನ್ನು ನೋಡುತ್ತಾ ಆ್ಯಂದ್ರೆ ತನ್ನ ಮಗನೊಂದಿಗೆ ತಾಸುಗಟ್ಟಲೆ ಕೂತುಕೊಳ್ಳುತ್ತಿದ್ದರು',\n",
              "  '511',\n",
              "  '890',\n",
              "  '1234',\n",
              "  '6887'],\n",
              " ['ನಕ್ಷತ್ರ',\n",
              "  'ನಕ್ಷತ್ರ ಆಮೆ ಸಾಗಣೆ ಮಾಡುತ್ತಿದ್ದ ಇಬ್ಬರ ಬಂಧನ',\n",
              "  '511',\n",
              "  '890',\n",
              "  '1234',\n",
              "  '511'],\n",
              " ['ನಕ್ಷತ್ರ',\n",
              "  'ಅದಕ್ಕಿಂತ ಮಿಗಿಲಾಗಿ, ಆ ನಕ್ಷತ್ರಗಳಲ್ಲಿ ತುಂಬಿರುವ ಎಲ್ಲಾ ಶಕ್ತಿಗೆ ಆತನೇ ಮೂಲನಾಗಿದ್ದಾನೆ',\n",
              "  '511',\n",
              "  '890',\n",
              "  '1234',\n",
              "  '511'],\n",
              " ['ಅಂಕ',\n",
              "  'ಈ ಪೈಕಿ ಲಿಖಿತ ಪರೀಕ್ಷೆ ಅಥವಾ ಮುಖ್ಯ ಪರೀಕ್ಷೆಯಲ್ಲಿ 893 ಹಾಗೂ ಸಂದರ್ಶನದಲ್ಲಿ 184 ಅಂಕಗಳನ್ನು ಗಳಿಸಿದ್ದಾರೆ',\n",
              "  '11922',\n",
              "  '',\n",
              "  '',\n",
              "  '11922'],\n",
              " ['ಅಂಕ',\n",
              "  'ರಿಯೋ ಒಲಿಂಪಿಕ್ಸ್ ಕಂಚು ವಿಜೇತೆ ಸೋಫಿಯಾ ಮ್ಯಾಟ್ಸನ್  ಅವರನ್ನು 13-0 ಅಂಕಗಳಿಂದ ಮಣಿಸಿ ಶುಭಾರಂಭ ಮಾಡಿದ್ದರು',\n",
              "  '11922',\n",
              "  '',\n",
              "  '',\n",
              "  '11922'],\n",
              " ['ಅಂಕ',\n",
              "  'ಮಗೆ ನಾಳೆಯ ಪಂದ್ಯದಲ್ಲಿ ಮೂರು ಅಂಕಗಳನ್ನು ಗಳಿಸಬೇಕಾಗಿದೆ',\n",
              "  '11922',\n",
              "  '',\n",
              "  '',\n",
              "  '1958'],\n",
              " ['ಅಂಕ',\n",
              "  'ಸರಿಯಾದ ಉತ್ತರಗಳಿಗೆ ಶೂನ್ಯ ಅಂಕ, ಸರಣಿ ಉತ್ತರಗಳನ್ನು ಮೌಲ್ಯಮಾಪನ ಮಾಡದೇ ಇರುವುದು ಸೇರಿದಂತೆ ಅನೇಕ ತಪ್ಪುಗಳನ್ನೆಸಲಾಗಿದೆ',\n",
              "  '11922',\n",
              "  '',\n",
              "  '',\n",
              "  '1958'],\n",
              " ['ಅಂಕ',\n",
              "  'ನಾಟಕದ ಎರಡನೇ ಅಂಕದ ನಂತರ ಕಥಾ ಹಂದರವೇ ಬದಲಾಗಿ ಹೋಯಿತು',\n",
              "  '2878',\n",
              "  '',\n",
              "  '',\n",
              "  '2878'],\n",
              " ['ಅಂಕ',\n",
              "  'ಕಲೋತ್ಸವದ ಅಂಗವಾಗಿ ನಾಳೆ ರವೀಂದ್ರ ಕಲಾ ಮಂದಿರದಲ್ಲಿ ಎಕಾಂಕ ನಾಟಕ ಪ್ರದರ್ಶನ ಇದೆ',\n",
              "  '2878',\n",
              "  '',\n",
              "  '',\n",
              "  '2878'],\n",
              " ['ಅಂಗ',\n",
              "  'ವಿವಿಧ ದೇವಸ್ಥಾನ ಹಾಗೂ ಗುಡಿಗಳಲ್ಲಿ ನಾಗರಪಂಚಮಿ ಅಂಗವಾಗಿ ವಿಶೇಷ ಪೂಜೆ ಏರ್ಪಡಿಸಲಾಗಿತ್ತು',\n",
              "  '1954',\n",
              "  '',\n",
              "  '',\n",
              "  '1954'],\n",
              " ['ಅಂಗ', 'ಸರ್ಕಾರ ಅಂಗವಿಕಲರಿಗೆ ಅನೇಕ ಯೋಜನೆಗಳನ್ನು ನೀಡಿದೆ', '1954', '', '', '1954'],\n",
              " ['ಅಂಗ',\n",
              "  'ಅಂಗವಿಕಲರಿಗೆ ಸಹಾಯವಾಗಲೆಂದು ವೀಲ್ ಚೇರ್ ಗಳಿಗೆ ಜಾಗ ಕಲ್ಪಿಸಲಾಗಿದೆ',\n",
              "  '1954',\n",
              "  '',\n",
              "  '',\n",
              "  '1954'],\n",
              " ['ಅಂಗ',\n",
              "  'ನಿಮ್ಮ ಅಂಗಸಂಸ್ಥೆ ಮಾರ್ಕೆಟಿಂಗ್ ಉದ್ಯಮ ಪ್ರಾರಂಭಿಸಲು 5 ಕ್ರಮಗಳು',\n",
              "  '1954',\n",
              "  '',\n",
              "  '',\n",
              "  '1954'],\n",
              " ['ಅಂಗ',\n",
              "  'ಅಂಗ ರಾಜ್ಯಾಧಿಪತಿ ಕರ್ಣ ಒಡ್ಡೋಲಗಕ್ಕೆ ಆಗಮಿಸುವ ಸಮಯ',\n",
              "  '37159',\n",
              "  '',\n",
              "  '',\n",
              "  '1954'],\n",
              " ['ಅಂಟು',\n",
              "  'ಗ್ರೀಕ್ ಭಾಷೆಯ ಅಂಟು ಎಂಬರ್ಥದ kolla ಯಿಂದ ಬಂದಿದೆ, ಕಾಲಜನ್ ಎಂದರೆ \"\"ಗ್ಲೂ ಪ್ರೋಡುಸರ್\"\" (ಅಂಟು ತಯಾರಕ) ಎಂದರ್ಥ. ಇದು ಅಂಟನ್ನು ತಯಾರಿಸಲು ಪ್ರಾಚೀನ ಕಾಲದ ವಿಧಾನವಾದ ಕುದುರೆ ಮತ್ತು ಇತರೆ ಪ್ರಾಣಿಗಳ ಚರ್ಮ ಮತ್ತು ಸ್ನಾಯುರಜ್ಜುಗಳನ್ನು ಕುದಿಸುವ ಕ್ರಮದಿಂದ ಬಂದಿದೆ',\n",
              "  '7799',\n",
              "  '11158',\n",
              "  '',\n",
              "  '7799'],\n",
              " ['ಅಂಟು',\n",
              "  'ತೊಗಟೆಯಿಂದ ಬರುವ ಅಂಟು,ಹೂವು,ಎಲೆಗಳು ಔಷಧಿಗಳಿಗೆ ಉಪಯೋಗವಾಗುತ್ತದೆ',\n",
              "  '7799',\n",
              "  '11158',\n",
              "  '',\n",
              "  '7799'],\n",
              " ['ಅಂಟು',\n",
              "  'ಶಾಖದಿಂದ ಅಂಟು ತೆಗೆದು ಅದನ್ನು ತಣ್ಣಗಾಗಲು ಅನುಮತಿಸಿ',\n",
              "  '7799',\n",
              "  '11158',\n",
              "  '',\n",
              "  '7799'],\n",
              " ['ಅಂಟು',\n",
              "  'ನನ್ನ ಮೂಲುಗುವಿಕೆಯ ಸ್ವರದಿಂದ ಎಲುಬುಗಳು ನನ್ನ ಮಾಂಸಕ್ಕೆ ಅಂಟುತ್ತವೆ',\n",
              "  '11267',\n",
              "  '',\n",
              "  '',\n",
              "  '11267'],\n",
              " ['ಅಂಟು',\n",
              "  'ಜೊತೆಗೆ ನಾನಾ ತರದ ಅಂಟುರೋಗಗಳು, ನೈಸರ್ಗಿಕ ವಿಪತ್ತುಗಳು, ‘ ಮಾರಕ ವ್ಯಾಧಿಗಳು ’ ಪ್ರತಿ ವರ್ಷ ಮಿಲ್ಯಾಂತರ ಜೀವಗಳನ್ನು ಬಲಿ ತೆಗೆದುಕೊಳ್ಳುತ್ತಿವೆ',\n",
              "  '11267',\n",
              "  '',\n",
              "  '',\n",
              "  '7799'],\n",
              " ['ಅಂಟು',\n",
              "  'ಏಕೆಂದರೆ ಕೈಗಳಲ್ಲಿ ಅಂಟುವ ವೈರಸ್ ಕಣ್ಣು, ಬಾಯಿ ಹಾಗೂ ಮೂಗಿನ ಮೂಲಕ ಸುಲಭವಾಗಿ ಮನುಷ್ಯನ ದೇಹ ಸೇರಲಿದೆ',\n",
              "  '11267',\n",
              "  '',\n",
              "  '',\n",
              "  '7799'],\n",
              " ['ಅಂಟು',\n",
              "  'ಪೊಲೀಸರು ಸ್ಥಳಕ್ಕೆ ಆಗಮಿಸಿದರಾದರೂ ರಕ್ತದ ಕಲೆಗಳು ವಾಹನಕ್ಕೆ ಅಂಟುತ್ತದೆ ಎಂಬ ಹೀನ ಕಾರಣ ಹೇಳಿ ಗಾಯಾಳುಗಳನ್ನು ತಮ್ಮ ವಾಹನದಲ್ಲಿ ಕರೆದೊಯ್ದು ಆಸ್ಪತ್ರೆಗೆ ದಾಖಲಿಸಲು ನಿರಾಕರಿಸಿದರು',\n",
              "  '11267',\n",
              "  '',\n",
              "  '',\n",
              "  '7799'],\n",
              " ['ಅಂಟು',\n",
              "  'ಮನುಷ್ಯರ ಕಷ್ಟದಲ್ಲಿ ಅವರು ಭಾಗಿಗಳಾಗುವದಿಲ್ಲ. ಇತರರಿಗೆ ತಗುಲುವಂತೆ ಅವರಿಗೆ ಅಂಟುರೋಗವೂ ತಗುಲುವದಿಲ್ಲ',\n",
              "  '11267',\n",
              "  '',\n",
              "  '',\n",
              "  '7799'],\n",
              " ['ಅಂತರ',\n",
              "  'ಮೂರು ನಾಲ್ಕು ಅಡಿ ಅಂತರ ಬರುವಂತೆ ಕಾಲನ್ನು ಅಗಲಿಸಿ ನಿಲ್ಲಿ',\n",
              "  '9144',\n",
              "  '9145',\n",
              "  '9174',\n",
              "  '1964'],\n",
              " ['ಅಂತರ',\n",
              "  'ಆದರೆ, ಎಲ್ಲಿಯೂ ಕೆರೆ, ಕಾಲುವೆಗಳಿಂದ ಅಂತರವನ್ನೇ ಕಾಯ್ದುಕೊಂಡಿಲ್ಲ',\n",
              "  '9144',\n",
              "  '9145',\n",
              "  '9174',\n",
              "  '1964'],\n",
              " ['ಅಂತರ',\n",
              "  'ಮುಖ್ಯವಾಗಿ ಸಾಮಾಜಿಕ ಅಂತರ ಕಾಯ್ದುಕೊಳ್ಳುವುದು ಅಗತ್ಯವಾಗಿದೆ',\n",
              "  '9144',\n",
              "  '9145',\n",
              "  '9174',\n",
              "  '1964'],\n",
              " ['ಅಂತರ',\n",
              "  '20 ಮೀಟರ್ಸ್ ಅಂತರದಲ್ಲಿ ಇರಿಸುವ ಕೋನ್ ಗಳ ಮಧ್ಯೆ ಓಡಬೇಕಾಗುತ್ತದೆ',\n",
              "  '9144',\n",
              "  '9145',\n",
              "  '9174',\n",
              "  '9174'],\n",
              " ['ಅಂತರ',\n",
              "  'ಆದರೆ ಕಾಂಗ್ರೆಸ್ ಬಹುದೊಡ್ಡ ಮತಗಳ ಅಂತರದಿಂದ ಕ್ಷೇತ್ರವನ್ನು ಸೋಲನ್ನು ಅನುಭವಿಸಿತು',\n",
              "  '7451',\n",
              "  '10748',\n",
              "  '',\n",
              "  '1964'],\n",
              " ['ಅಂತರ',\n",
              "  'ಇದರಲ್ಲಿ ಕಾಗೋಡು ಅವರಿಗೆ 3,299 ಮತಗಳ ಅಂತರದ ಸೋಲುಂಟಾಗಿತ್ತು',\n",
              "  '7451',\n",
              "  '10748',\n",
              "  '',\n",
              "  '1964'],\n",
              " ['ಅಂತರ',\n",
              "  'ಮೊದಲು ಮಾಜಿ ವಿಶ್ವ ಚಾಂಪಿಯನ್ ಶಿಪ್ ಕಂಚಿನ ಪದಕ ವಿಜೇತೆ ಉಕ್ರೇನ್\\\\u200cನ ಯುಲಿಯಾ ಖಲ್ವಾಡ್ಜಿ ವಿರುದ್ಧ 5-0ರ ಅಂತರದ ಗೆಲುವು ದಾಖಲಿಸಿರುವ ಫೋಗಟ್ ಬಳಿಕ ಬೆಳ್ಳಿ ಪದಕ ವಿಜೇತೆ ಸಾರಾ ಹಿಲ್ಡೆಬ್ರಾಂಡ್ ವಿರುದ್ಧ 8-2ರ ಅಂತರದ ಗೆಲುವು ದಾಖಲಿಸಿದರು',\n",
              "  '7451',\n",
              "  '10748',\n",
              "  '',\n",
              "  '1964'],\n",
              " ['ಅಂತರ',\n",
              "  'ಅಗ್ನಿಶಾಮಕ ಸಿಬ್ಬಂದಿ ತಂಡ ಬೆಂಕಿ ನಂದಿಸುವಲ್ಲಿ ಕಾರ್ಯನಿರತರಾಗಿದ್ದ ಸಂದರ್ಭದಲ್ಲಿ ಕಟ್ಟಡ ಕುಸಿದುಬಿದ್ದಿದ್ದು, ಈ ವೇಳೆ ಕೂದಲೆಳೆ ಅಂತರದಲ್ಲಿ ಸಿಬ್ಬಂದಿ ಪಾರಾಗಿದ್ದಾರೆ',\n",
              "  '7451',\n",
              "  '10748',\n",
              "  '',\n",
              "  '1964'],\n",
              " ['ಅಂತರ',\n",
              "  'ಇದರಿಂದ ಜನರಿಗೆ ಮತ್ತು ಪೊಲೀಸ್ ಇಲಾಖೆಯ ನಡುವಿನ ಅಂತರ ಕಡಿಮೆಯಾಗುತ್ತದೆ',\n",
              "  '7451',\n",
              "  '10748',\n",
              "  '',\n",
              "  '9144'],\n",
              " ['ಅಂತರ',\n",
              "  'ಒಂದನೇ ಮತ್ತು ಎರಡನೇ ಅವಧಿಯ ನಡುವೆ ಐದು ನಿಮಿಷಗಳ ಅಂತರವಿದೆ',\n",
              "  '1964',\n",
              "  '',\n",
              "  '',\n",
              "  '1964'],\n",
              " ['ಅಂತರ',\n",
              "  'ಓಟದ ಸ್ಪರ್ದೆಯಲ್ಲಿ ರಕ್ಷಾ ನಲ್ವತ್ತೈದು ಸೆಕೆಂಡುಗಳ ಅಂತರದಲ್ಲಿ ಪ್ರಥಮ ಸ್ಥಾನ ಗಳಿಸಿದಳು',\n",
              "  '1964',\n",
              "  '',\n",
              "  '',\n",
              "  '5799'],\n",
              " ['ಅಂತ್ಯ',\n",
              "  'ಅಕ್ರಮ ಹಣ ಪತ್ತೆ ಪ್ರಕರಣ ಸಂಬಂಧ ನ್ಯಾಯಾಂಗ ಬಂಧನದಲ್ಲಿರುವ ಮಾಜಿ ಸಚಿವ ಡಿ. ಕೆ. ಶಿವಕುಮಾರ್ ಅವರ ಜಾಮೀನು ಅರ್ಜಿ ವಿಚಾರಣೆ ಅಂತ್ಯವಾಗಿದೆ',\n",
              "  '658',\n",
              "  '1775',\n",
              "  '2091',\n",
              "  '658'],\n",
              " ['ಅಂತ್ಯ',\n",
              "  '1960ರ ದಶಕದ ಅಂತ್ಯದಲ್ಲಿ ಅನೇಕ ಜಪಾನ್ ಫಾಕ್ಟರಿ ತಂಡಗಳು ಅಂತರಾಷ್ಟ್ರೀಯ ಸ್ಪರ್ಧೆಯಿಂದ ಹಿಂಜರಿಯ ತೊಡಗಿತು',\n",
              "  '658',\n",
              "  '1775',\n",
              "  '2091',\n",
              "  '658'],\n",
              " ['ಅಂತ್ಯ',\n",
              "  'ಈ ವ್ಯವಸ್ಥೆಯ ಅಂತ್ಯವು ಬಹಳ ದೂರದಲ್ಲಿದೆಯೆಂಬ ತೀರ್ಮಾನಕ್ಕೆ ನಾವು ಬರುವುದಾದರೆ, ಆಗ ಕೂಟದ ಹಾಜರಿಯಂತಹ ಆವಶ್ಯಕ ಆತ್ಮಿಕ ಚಟುವಟಿಕೆಗಳ ಸ್ಥಾನವನ್ನು ವೈಯಕ್ತಿಕ ಬೆನ್ನಟ್ಟುವಿಕೆಗಳು ಆಕ್ರಮಿಸುವಂತೆ ನಾವು ಬಿಡಬಹುದು',\n",
              "  '658',\n",
              "  '1775',\n",
              "  '2091',\n",
              "  '1775'],\n",
              " ['ಅಂತ್ಯ',\n",
              "  'ಆದುದರಿಂದ ಯುದ್ಧಗಳು, ದ್ವೇಷ, ಹಿಂಸೆ ಮತ್ತು ಜಗಳಗಳಿಗೆ ಯೆಹೋವ ದೇವರು ಶೀಘ್ರದಲ್ಲೇ ಅಂತ್ಯವನ್ನು ತರುವನು ಎಂಬುದು ಅವರಿಗೆ ಗೊತ್ತಿದೆ',\n",
              "  '658',\n",
              "  '1775',\n",
              "  '2091',\n",
              "  '1775'],\n",
              " ['ಅಂತ್ಯ',\n",
              "  'ಭಾರತ-ಶ್ರೀಲಂಕಾ ನಡುವಣ ಮೊದಲ ಟೆಸ್ಟ್ ಡ್ರಾನಲ್ಲಿ ಅಂತ್ಯ',\n",
              "  '658',\n",
              "  '1775',\n",
              "  '2091',\n",
              "  '658'],\n",
              " ['ಅಂತ್ಯ',\n",
              "  'ಯಾವುದೇ ಪ್ರಕರಣವನ್ನು ತಾರ್ಕಿಕ ಅಂತ್ಯಕ್ಕೆ ಕೊಂಡೊಯ್ಯದೆ ಬಿಡುವುದಿಲ್ಲ',\n",
              "  '2035',\n",
              "  '',\n",
              "  '',\n",
              "  '1775'],\n",
              " ['ಅಂತ್ಯ',\n",
              "  'ಪ್ರಕರಣವು ಅತ್ಯಂತ ಕ್ಲಿಷ್ಟ ಆಗಿರುವುದರಿಂದ ಅದರಲ್ಲಿ ಯಾವುದೇ ಅಂತ್ಯವಿಲ್ಲ ಎಂದು ತೋರುತ್ತಿಲ್ಲ',\n",
              "  '2035',\n",
              "  '',\n",
              "  '',\n",
              "  '1775'],\n",
              " ['ಅಕ್ಷರ',\n",
              "  'ಉಚ್ಚಾರಾಂಶದ ಸಂಕ್ಷೇಪಣಗಳನ್ನು ಸಾಮಾನ್ಯವಾಗಿ ಸಣ್ಣ ಅಕ್ಷರದಲ್ಲಿ ಬರೆಯಲಾಗುತ್ತದೆ, ಕೆಲವೊಂದು ಬಾರಿ ದೊಡ್ಡ ಅಕ್ಷರದಲ್ಲಿ ಪ್ರಾರಂಭಿಸಲಾಗುತ್ತದೆ, ಹಾಗು ಇವುಗಳನ್ನು ಯಾವಾಗಲು ಒಂದು ಪದಕ್ಕಿಂತ ಹೆಚ್ಚಾಗಿ ಅಕ್ಷರ ಅಕ್ಷರವಾಗಿ ಉಚ್ಚರಿಸಲಾಗುತ್ತದೆ',\n",
              "  '1925',\n",
              "  '6975',\n",
              "  '11002',\n",
              "  '14678'],\n",
              " ['ಅಕ್ಷರ',\n",
              "  'ಅಧುನಿಕ ಹಾಗೂ ಪುರಾತನ ಗ್ರೀಕ್ ನ ಸಾಧಾರಣ, ಸತತ ಪಠ್ಯಕ್ಕಾಗಿ ಯೂನಿಕೋಡ್ ಪಾಲಿಟೊನಿಕ್ ಅಕ್ಷರ ಸಂಯೋಜನೆಯನ್ನು ಬೆಂಬಲಿಸುತ್ತದೆ, ಇದಲ್ಲದೆ, ಶಾಸನಶಾಸ್ತ್ರಕ್ಕಾಗಿ ಹಳೆಯ ಕಾಲದ ರೂಪಗಳನ್ನೂ ಸಹ ಯೂನಿಕೋಡ್ ಬೆಂಬಲಿಸುತ್ತದೆ',\n",
              "  '1925',\n",
              "  '6975',\n",
              "  '11002',\n",
              "  '1925'],\n",
              " ['ಅಕ್ಷರ',\n",
              "  'ಅಕ್ಷರವನ್ನು ಸಾಧಾರಣ ಗಾತ್ರದಲ್ಲಿ ಕಾಣಿಸಲು ಕೀಲಿಮಣೆ ಸುಲಭ ಆಯ್ಕೆ',\n",
              "  '1925',\n",
              "  '6975',\n",
              "  '11002',\n",
              "  '12534'],\n",
              " ['ಅಕ್ಷರ',\n",
              "  'ಈ ಟ್ಯಾಗ್ ಅಕ್ಷರದ ಶೈಲಿಯ ಮೇಲೆ ಪರಿಣಾಮವನ್ನು ಬೀರುತ್ತದೆಯೆ',\n",
              "  '1925',\n",
              "  '6975',\n",
              "  '11002',\n",
              "  '6975'],\n",
              " ['ಅಕ್ಷರ',\n",
              "  'ಹಿಂದೂ ಪುರಾಣಗಳ ಪ್ರಕಾರ ವೈಕುಂಠವಾಸಿ ವಿಷ್ನುವನ್ನು ಅಕ್ಷರ ಎಂಬ ಹೆಸರಿನಲ್ಲಿಯೂ ಪೂಜಿಸುತ್ತಾರೆ',\n",
              "  '2185',\n",
              "  '',\n",
              "  '',\n",
              "  '2185'],\n",
              " ['ಅಕ್ಷರ', 'ಅಕ್ಷರದೇವನ ಹೆಂಡತಿ ಶ್ರೀ ಲಕ್ಷ್ಮಿ', '2185', '', '', '1925'],\n",
              " ['ಅಚಲ',\n",
              "  'ಕಾಶ್ಮೀರ ಭಾರತ ಮತ್ತು ಪಾಕಿಸ್ತಾನ ನಡುವಿನ ವಿವಾದವಾಗಿದ್ದು, ಇದನ್ನು ದ್ವಿಪಕ್ಷೀಯ ಮಾತುಕತೆಯ ಮೂಲಕವೇ ಬಗೆಹರಿಸಿಕೊಳ್ಳಬೇಕೆನ್ನುವುದು ಭಾರತದ ಅಚಲ ನಿಲುವು',\n",
              "  '1154',\n",
              "  '2748',\n",
              "  '',\n",
              "  '2340'],\n",
              " ['ಅಚಲ',\n",
              "  'ಜೊತೆ ಜೊತೆಗೆ ಎನ್. ಆರ್. ಸಿ. ಯನ್ನು ದೇಶಾದ್ಯಂತ ಜಾರಿ ಮಾಡುವ ತಮ್ಮ ನಿರ್ಧಾರ ಅಚಲವೆಂದು ಸಾರಿದ್ದಾರೆ ಗೃಹಮಂತ್ರಿ ಅಮಿತ್ ಶಾ',\n",
              "  '1154',\n",
              "  '2748',\n",
              "  '',\n",
              "  '1154'],\n",
              " ['ಅಚಲ',\n",
              "  'ರಾಷ್ಟ್ರಪತಿ ರಾಮನಾಥ್ ಕೋವಿಂದ್ ಅವರು, ವಿಜಯ್ ದಿವಾಸ್ ನಲ್ಲಿ ನಮ್ಮ ಸಾರ್ವಭೌಮತ್ವವನ್ನು ಕಾಪಾಡಿಕೊಳ್ಳಲು ಮತ್ತು ಮಾನವ ಘನತೆಯನ್ನು ಕಾಪಾಡುವ ನಮ್ಮ ರಾಷ್ಟ್ರದ ಅಚಲ ಬದ್ಧತೆಯನ್ನು ದೃಢಿಕರಿಸಿದ ನಮ್ಮ ಸೈನಿಕರ ಶೌರ್ಯವನ್ನು ನೆನಪಿಸೋಣ',\n",
              "  '1154',\n",
              "  '2748',\n",
              "  '',\n",
              "  '2340'],\n",
              " ['ಅಚಲ',\n",
              "  'ದೇವರಲ್ಲಿ ಅವನಿಗಿದ್ದ ಭರವಸೆಯು ಅಚಲವಾಗಿತ್ತು ಎಂಬುದಂತೂ ನಿಶ್ಚಯ',\n",
              "  '1154',\n",
              "  '2748',\n",
              "  '',\n",
              "  '1154'],\n",
              " ['ಅಚಲ',\n",
              "  'ನಿಮ್ಮಂತಹ ಅನುಭವಿ ಜನರೊಂದಿಗೆ ಸೇರಿ, ನಾವು ಖಂಡಿತಾವಾಗಿಯೂ ಪರಿಹಾರ ಕಂಡುಕೊಳ್ಳುತ್ತೇವೆ ಎಂಬ ಅಚಲ ನಂಬಿಕೆ ಇದೆ, ಅಚಲ ನಿರ್ಧಾರ ಮತ್ತು ಪ್ರಬಲ ಇಚ್ಛಾಾಶಕ್ತಿಿಯು ಬೇಕಿದೆ',\n",
              "  '1154',\n",
              "  '2748',\n",
              "  '',\n",
              "  '2340'],\n",
              " ['ಅಚಲ',\n",
              "  'ಆ ಋಷಿ ವಿಂಧ್ಯಾಚಲದ ತಪ್ಪಲಿನಲ್ಲಿ ಕುಳಿತು ಸಾವಿರಾರು ವರ್ಷಗಳ ತಪಸ್ಸನ್ನು ಆಚರಿಸಿದನು',\n",
              "  '2340',\n",
              "  '',\n",
              "  '',\n",
              "  '1154'],\n",
              " ['ಅಚಲ',\n",
              "  'ದಕ್ಶಿಣ ದಿಕ್ಕಿನಿಂದ ಬೀಸುವ ಶೀತ ಮಾರುತಗಳನ್ನು ಅರುಣಾಚಲವು ತಡೆಯುದರಿಂದ ಆ ಪ್ರದೇಶದಲ್ಲಿ ಭಾರೀ ಮಳೆಯಾಗುತ್ತದೆ',\n",
              "  '2340',\n",
              "  '',\n",
              "  '',\n",
              "  '1154'],\n",
              " ['ಅಡಿ',\n",
              "  'ವ್ಯಾಪಾರ ಸೆಟ್ಟಿಂಗ್ಗಳ ಅಡಿಯಲ್ಲಿ ಬಳಕೆದಾರರನ್ನು ಆಯ್ಕೆ ಮಾಡಲು ಫೀಚರ್ಗಳನ್ನು ಲಭ್ಯವಿದೆ',\n",
              "  '1123',\n",
              "  '1537',\n",
              "  '',\n",
              "  '1123'],\n",
              " ['ಅಡಿ', 'ಜೆಡಿಎಸ್ ಯಾವ ಪಕ್ಷದ ಅಡಿಯಾಳು ಅಲ್ಲ', '1123', '1537', '', '1123'],\n",
              " ['ಅಡಿ',\n",
              "  'ಪುಷ್ಕರ್ ಫಿಲಂಸ್ ಈ ಚಿತ್ರವನ್ನು ರಕ್ಷಿತ್ ಶೆಟ್ಟಿ ಹಾಗೂ ಜಿಎಸ್ ಗುಪ್ತಾ ಪರಮ್ವಾಹ್ ಬ್ಯಾನರ್ ಅಡಿಯಲ್ಲಿ ಜಂಟಿಯಾಗಿ ನಿರ್ಮಿಸುತ್ತಿದ್ದಾರೆ',\n",
              "  '1123',\n",
              "  '1537',\n",
              "  '',\n",
              "  '1123'],\n",
              " ['ಅಡಿ',\n",
              "  '358ರಲ್ಲಿ ರೋಮನರ ಅಡಿಯಾಳುತನಕ್ಕೆ ಒಳಪಡಿಸಲ್ಪಟ್ಟ ನಂತರ, ಜರ್ಮನರ ಈ ಬುಡಕಟ್ಟಿಗೆ, ಈಗ ಬೆಲ್ಜಿಯಮ್ ಎಂದು ಕರೆಯಲ್ಪಡುವ ಪ್ರದೇಶದಲ್ಲಿ ನೆಲೆಸಲು ಅನುಮತಿ ಸಿಕ್ಕಿತು',\n",
              "  '1123',\n",
              "  '1537',\n",
              "  '',\n",
              "  '1123'],\n",
              " ['ಅಡಿ',\n",
              "  'ಸ್ಫೋಟದ ರಭಸಕ್ಕೆ ಎರಡು ಮನೆಗಳು ಧ್ವಂಸಗೊಂಡಿದ್ದು ಅವಶೇಷಗಳ ಅಡಿ ಕೆಲವರು ಸಿಕ್ಕಿ ಹಾಕಿಕೊಂಡಿದ್ದಾರೆ',\n",
              "  '1123',\n",
              "  '1537',\n",
              "  '',\n",
              "  '1123'],\n",
              " ['ಅಡಿ',\n",
              "  'ಆದರೆ, ಮಂದಿರ ನಿರ್ಮಾಣಕ್ಕೆ ಅಡಿಗಲ್ಲು ಹಾಕಿದ್ದೇ ಶಿವಸೇನೆ ಎಂದು ಹೇಳಿದರು',\n",
              "  '1123',\n",
              "  '1537',\n",
              "  '',\n",
              "  '1123'],\n",
              " ['ಅಡಿ',\n",
              "  'ಕಟ್ಟಡದ ಅಡಿಪಾಯ ಹಾಕಲು ಸುಮಾರು ಹತ್ತು ನೌಕರರ ಅವಶ್ಯಕತೆ ಇದೆ',\n",
              "  '1123',\n",
              "  '1537',\n",
              "  '',\n",
              "  '8532'],\n",
              " ['ಅಡಿ',\n",
              "  'ಏಕೆಂದರೆ ಆರು ತಿಂಗಳ ಕಾಲ 10 ಅಡಿಯಷ್ಟು ಎತ್ತರಕ್ಕೆ ಹಿಮ ಮುಚ್ಚಿಕೊಂಡಿರುತ್ತದೆ',\n",
              "  '8532',\n",
              "  '',\n",
              "  '',\n",
              "  '1123'],\n",
              " ['ಅಡಿ', 'ಹೊಳೆ ಸುಮಾರು 150 ಅಡಿ ಉದ್ದ ಇದೆ', '8532', '', '', '1123'],\n",
              " ['ಅಡಿ',\n",
              "  '1000 ಚದರ ಅಡಿಒಳಗಿನ ಮನೆಯಲ್ಲಿ ವಾಸಿಸುತ್ತಿರುವವರು',\n",
              "  '8532',\n",
              "  '',\n",
              "  '',\n",
              "  '1123'],\n",
              " ['ಅಡಿ',\n",
              "  '874 ಚದರ ಅಡಿ ಕೀ. ಮೀ. ವಿಸ್ತಾರವಾಗಿ ಹರಡಿರುವ ಈ ಅಭಯಾರಣ್ಯವನ್ನು ಹುಲಿಗಳ ರಕ್ಷಣೆಗಾಗಿ 1974ರಲ್ಲಿ ರೂಪುಗೊಂಡಿತ್ತು',\n",
              "  '8532',\n",
              "  '',\n",
              "  '',\n",
              "  '1123'],\n",
              " ['ಅಡಿ',\n",
              "  '13 ನಿಮಿಷಗಳಲ್ಲಿ ಚಾರ್ಜ್ ಮಾಡಿಸುವಂತಹ ಈ ಸ್ಮಾರ್ಟ್ಪ್ಲೇನ್ ಗರಿಷ್ಠ 200 ಅಡಿ ಎತ್ತರದಲ್ಲಿ ಹಾರಬಲ್ಲದು',\n",
              "  '8532',\n",
              "  '',\n",
              "  '',\n",
              "  '1123'],\n",
              " ['ಅಣಿ',\n",
              "  'ವೈಜಾಗ್ ನಲ್ಲಿ ಮೊದಲ ಟೆಸ್ಟ್ ಪಂದ್ಯಕ್ಕೆ ಮೈದಾನ ಅಣಿಯಾಗಿದೆ',\n",
              "  '1416',\n",
              "  '',\n",
              "  '',\n",
              "  '1416'],\n",
              " ['ಅಣಿ',\n",
              "  'ಬೆಳೆಯು ಚೆನ್ನಾಗಿ ಬೆಳೆಯುವುದನ್ನು ಖಚಿತಪಡಿಸಿಕೊಳ್ಳಲು ಅಕ್ಷರಶಃ ಮಣ್ಣನ್ನು ಸಾಮಾನ್ಯವಾಗಿ ಅಣಿಗೊಳಿಸಲಾಗುತ್ತದೆ',\n",
              "  '1416',\n",
              "  '',\n",
              "  '',\n",
              "  '1416'],\n",
              " ['ಅಣಿ', 'ಆದರೂ, ಸರ್ಕಾರ ಕಾಯ್ದೆ ಜಾರಿಗೊಳಿಸಲು ಅಣಿಯಾಗಿದೆ', '1416', '', '', '1416'],\n",
              " ['ಅಣಿ',\n",
              "  'ಅದಕ್ಕಾಗಿ ನಾನು ಅಣಿಯಾಗಬೇಕಾಗಿದೆ’ ಎಂದು ಮಹಾವೀರರು ನುಡಿದರು',\n",
              "  '1416',\n",
              "  '',\n",
              "  '',\n",
              "  '1416'],\n",
              " ['ಅಣಿ',\n",
              "  'ಒಂದು ಡಯಲ್-ಅಪ್-ಜಾಲಬಂಧ ಸಂಪರ್ಕವನ್ನು ಅಣಿಗೊಳಿಸುವ ಮೊದಲು ಪೂರ್ವನಿಯೋಜಿತವಾದ ಬ್ಲೂಟೂತ್ ಅಡಾಪ್ಟರ್ ಅನ್ನು ಶಕ್ತಗೊಳಿಸಬೇಕು',\n",
              "  '1416',\n",
              "  '',\n",
              "  '',\n",
              "  '1416']]"
            ]
          },
          "metadata": {},
          "execution_count": 27
        }
      ]
    },
    {
      "cell_type": "markdown",
      "source": [
        "Accuracy of the WSD System"
      ],
      "metadata": {
        "id": "1-YT3-xGNa3M"
      }
    },
    {
      "cell_type": "code",
      "source": [
        "def accuracy_wsd(rows):\n",
        "  count = 0\n",
        "  for i in range(1,len(rows)):\n",
        "    if rows[i][5] == rows[i][2] or rows[i][5] == rows[i][3] or rows[i][5] == rows[i][4]:\n",
        "      count = count+1\n",
        "  return count/(len(rows)-1)"
      ],
      "metadata": {
        "id": "gOVNROZlCcrR"
      },
      "execution_count": 28,
      "outputs": []
    },
    {
      "cell_type": "code",
      "source": [
        "accuracy_wsd(rows)"
      ],
      "metadata": {
        "colab": {
          "base_uri": "https://localhost:8080/"
        },
        "id": "t12msG-0C17V",
        "outputId": "b129fa4b-db8f-4d7f-d33e-22dc32a94fa7"
      },
      "execution_count": 29,
      "outputs": [
        {
          "output_type": "execute_result",
          "data": {
            "text/plain": [
              "0.54"
            ]
          },
          "metadata": {},
          "execution_count": 29
        }
      ]
    }
  ]
}